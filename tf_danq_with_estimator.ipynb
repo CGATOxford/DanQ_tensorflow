{
 "cells": [
  {
   "cell_type": "code",
   "execution_count": 18,
   "metadata": {},
   "outputs": [],
   "source": [
    "'''\n",
    "Refer to https://medium.com/onfido-tech/higher-level-apis-in-tensorflow-67bfb602e6c0\n",
    "Basically, we will use high level tensorflow's API: Estimator + Experiment + Dataset\n",
    "'''\n",
    "from __future__ import division, print_function\n",
    "\n",
    "import tensorflow as tf\n",
    "from tensorflow.contrib.learn import learn_runner\n",
    "from tensorflow.contrib import rnn\n",
    "from tensorflow.contrib.learn import ModeKeys\n",
    "from tensorflow.contrib import slim\n",
    "import numpy as np\n",
    "import h5py\n",
    "import scipy.io\n",
    "\n",
    "\n",
    "# tf needs >= 1.3.0\n",
    "assert tf.__version__>='1.3.0', 'tensorflow version needs to be no lower than 1.3.0'"
   ]
  },
  {
   "cell_type": "code",
   "execution_count": null,
   "metadata": {
    "collapsed": true
   },
   "outputs": [],
   "source": [
    "trainmat = h5py.File('data/deepsea_train/train.mat', \"r\")\n",
    "validmat = scipy.io.loadmat('/valid.mat')\n",
    "testmat = scipy.io.loadmat('Data/test.mat')"
   ]
  },
  {
   "cell_type": "markdown",
   "metadata": {},
   "source": [
    "# Set defult flags for script parsing"
   ]
  },
  {
   "cell_type": "code",
   "execution_count": 7,
   "metadata": {},
   "outputs": [],
   "source": [
    "tf.logging.set_verbosity(tf.logging.DEBUG)\n",
    "\n",
    "FLAGS = tf.app.flags.FLAGS\n",
    "# Define the model and data directories i.e. model_dir where model will be saved\n",
    "tf.app.flags.DEFINE_string(flag_name='model_dir', default_value='', docstring='')\n",
    "tf.app.flags.DEFINE_string(flag_name='data_dir', default_value='', docstring='')"
   ]
  },
  {
   "cell_type": "markdown",
   "metadata": {},
   "source": [
    "# Define and run the experiment"
   ]
  },
  {
   "cell_type": "code",
   "execution_count": 6,
   "metadata": {},
   "outputs": [],
   "source": [
    "def run_experiment(argv=None):\n",
    "    '''Run the experiment'''\n",
    "    \n",
    "    # Define the hyperparameters\n",
    "    params = tf.contrib.training.HParams(\n",
    "        learning_rate=0.001,\n",
    "        n_classes=919,\n",
    "        train_steps=5000,\n",
    "        min_eval_frequency=100)\n",
    "    \n",
    "    # set the run config and directory to save the model and stats\n",
    "    run_config = tf.contrib.learn.RunConfig()\n",
    "    run_config = run_config.replace(model_dir=FLAGS.model_dir)\n",
    "    \n",
    "    learn_runner.run(\n",
    "        experiment_fn=experiment_fn,\n",
    "        run_config=run_config,\n",
    "        schedule=\"train_and_evaluate\",\n",
    "        hparams=params)\n",
    "                                    "
   ]
  },
  {
   "cell_type": "markdown",
   "metadata": {},
   "source": [
    "# Experiment function"
   ]
  },
  {
   "cell_type": "code",
   "execution_count": 9,
   "metadata": {
    "collapsed": true
   },
   "outputs": [],
   "source": [
    "def experiment_fn(run_config, params):\n",
    "    '''Create and experiment to train and evaluate the model'''\n",
    "    \n",
    "    run_config = run_config.replace(\n",
    "                    save_checkpoints_steps=params.min_eval_frequency)\n",
    "    \n",
    "    # Define the classifier\n",
    "    \n",
    "    estimator = get_estimator(run_config, params)\n",
    "    \n",
    "    # Setup data loaders\n",
    "    danq_train = train_input_fn, train_input_hook = get_train_inputs(\n",
    "            batch_size=100, data=trainmat, test=False)\n",
    "    \n",
    "    danq_test = eval_input_fn, eval_input_hook = get_train_inputs(\n",
    "            batch_size=100, data=trainmat, test=True)\n",
    "    \n",
    "    # Define the experiment\n",
    "    \n",
    "    experiment = tf.contrib.learn.Experiment(\n",
    "        estimator=estimator,\n",
    "        train_input_fn=train_input_fn,\n",
    "        eval_input_fn=eval_input_fn,\n",
    "        train_steps=params.train_steps,\n",
    "        min_eval_frequency=params.min_eval_frequency,\n",
    "        train_monitors=[train_input_hook],\n",
    "        eval_hooks=[eval_input_hook],\n",
    "        eval_steps=None)\n",
    "    \n",
    "    return experiment\n",
    "    "
   ]
  },
  {
   "cell_type": "markdown",
   "metadata": {},
   "source": [
    "# Define model"
   ]
  },
  {
   "cell_type": "code",
   "execution_count": 10,
   "metadata": {
    "collapsed": true
   },
   "outputs": [],
   "source": [
    "def get_estimator(run_config, params):\n",
    "    '''Return the model as a tensorflow object'''\n",
    "    \n",
    "    return tf.estimator.Estimator(\n",
    "            model_fn=model_fn,\n",
    "            params=params,\n",
    "            config=run_config)\n",
    "    "
   ]
  },
  {
   "cell_type": "markdown",
   "metadata": {},
   "source": [
    "# Define the model function"
   ]
  },
  {
   "cell_type": "code",
   "execution_count": 14,
   "metadata": {
    "collapsed": true
   },
   "outputs": [],
   "source": [
    "def model_fn(features, labels, mode, params):\n",
    "    '''Model function is used in the estimator and is required for running model'''\n",
    "    \n",
    "    is_training = mode == ModeKeys.TRAIN\n",
    "    \n",
    "    # Define the models architecture\n",
    "    logits = architecture(features, is_training=is_training)\n",
    "    predictions = tf.argmax(logits, axis=1)\n",
    "    \n",
    "    # Loss functions and not needed during inference\n",
    "    \n",
    "    loss = None\n",
    "    train_op = None\n",
    "    eval_metric_ops = {}\n",
    "    \n",
    "    if mode != ModeKeys.INFER:\n",
    "        loss = tf.losses.sparse_softmax_cross_entropy(labels=tf.cast(labels, tf.int32), logits=logits)\n",
    "        \n",
    "        train_op = get_train_op_fn(loss, params)\n",
    "        eval_metric_ops = get_eval_metric_ops(labels, predictions)\n",
    "    return tf.estimator.EstimatorSpec(mode=mode,\n",
    "                                     predictions=predictions,\n",
    "                                     loss=loss,\n",
    "                                     train_op=train_op,\n",
    "                                     eval_metric_ops=eval_metric_ops)\n",
    "\n",
    "    \n",
    "    "
   ]
  },
  {
   "cell_type": "markdown",
   "metadata": {},
   "source": [
    "# Define the training and eval metric ops"
   ]
  },
  {
   "cell_type": "code",
   "execution_count": 15,
   "metadata": {
    "collapsed": true
   },
   "outputs": [],
   "source": [
    "def get_train_op_fn(loss, params):\n",
    "    \"\"\"Get the training Op.\n",
    "\n",
    "    Args:\n",
    "         loss (Tensor): Scalar Tensor that represents the loss function.\n",
    "         params (HParams): Hyperparameters (needs to have `learning_rate`)\n",
    "\n",
    "    Returns:\n",
    "        Training Op\n",
    "    \"\"\"\n",
    "    return tf.contrib.layers.optimize_loss(\n",
    "        loss=loss,\n",
    "        global_step=tf.contrib.framework.get_global_step(),\n",
    "        optimizer=tf.train.AdamOptimizer,\n",
    "        learning_rate=params.learning_rate\n",
    "    )\n",
    "\n",
    "\n",
    "def get_eval_metric_ops(labels, predictions):\n",
    "    \"\"\"Return a dict of the evaluation Ops.\n",
    "\n",
    "    Args:\n",
    "        labels (Tensor): Labels tensor for training and evaluation.\n",
    "        predictions (Tensor): Predictions Tensor.\n",
    "    Returns:\n",
    "        Dict of metric results keyed by name.\n",
    "    \"\"\"\n",
    "    return {\n",
    "        'Accuracy': tf.metrics.accuracy(\n",
    "            labels=labels,\n",
    "            predictions=predictions,\n",
    "            name='accuracy')\n",
    "    }"
   ]
  },
  {
   "cell_type": "markdown",
   "metadata": {},
   "source": [
    "# Define the architecture of NN"
   ]
  },
  {
   "cell_type": "code",
   "execution_count": 19,
   "metadata": {
    "collapsed": true
   },
   "outputs": [],
   "source": [
    "def BDNN(x):\n",
    "    '''Bidirectional neural network'''\n",
    "    \n",
    "    forward_lstm = rnn.LSTMCell(320, reuse=tf.get_variable_scope().reuse)\n",
    "    backward_lstm = rnn.LSTMCell(320, reuse=tf.get_variable_scope().reuse)\n",
    "    \n",
    "    brnn, _ = tf.nn.bidirectional_dynamic_rnn(forward_lstm, backward_lstm, x, dtype=tf.float32)\n",
    "\n",
    "    return brnn\n",
    "\n",
    "def architecture(inputs, is_training, scope='DanQNN'):\n",
    "    \n",
    "    '''\n",
    "    This function creates a CNN followed by a bidirectional LSTM RNN as per DanQ publication\n",
    "    We aim to have this implimented in tensorflow as it will be easier to\n",
    "    modify the implimentation for other uses if we incorporate with tensorboard.\n",
    "    '''\n",
    "    \n",
    "    with tf.variable_scope(scope):\n",
    "\n",
    "        conv1d = tf.layers.conv1d(x, filters=nb_filter , strides=subsample, \n",
    "                                  padding=border, kernel_size=input_length, data_format='channels_first', reuse=reuse)\n",
    "\n",
    "        max1 = tf.layers.max_pooling1d(conv1d, pool_size=max_pool_size, strides=max_strides)\n",
    "        \n",
    "        max1 = tf.layers.dropout(max1, rate=0.2,training=mode == tf.estimator.ModeKeys.TRAIN)\n",
    "        \n",
    "\n",
    "        brnn = BDNN(max1)\n",
    "        \n",
    "        brnn = tf.layers.dropout(brnn, rate=0.5,training=mode == tf.estimator.ModeKeys.TRAIN)\n",
    "\n",
    "        brnn = tf.contrib.layers.flatten(brnn)\n",
    "        \n",
    "    with tf.variable_scope('DanQdense1', reuse=reuse):\n",
    "        fc1 = tf.layers.dense(brnn, units=925, activation=tf.nn.relu)\n",
    "        \n",
    "    with tf.variable_scope('DanQdense2', reuse=reuse):\n",
    "        fc2 = tf.layers.dense(fc1, units=919, activation=tf.nn.softmax)\n",
    "        return fc2"
   ]
  },
  {
   "cell_type": "code",
   "execution_count": 8,
   "metadata": {
    "collapsed": true
   },
   "outputs": [],
   "source": [
    "# Define data loaders #####################################\n",
    "class IteratorInitializerHook(tf.train.SessionRunHook):\n",
    "    \"\"\"Hook to initialise data iterator after Session is created.\"\"\"\n",
    "\n",
    "    def __init__(self):\n",
    "        super(IteratorInitializerHook, self).__init__()\n",
    "        self.iterator_initializer_func = None\n",
    "\n",
    "    def after_create_session(self, session, coord):\n",
    "        \"\"\"Initialise the iterator after the session has been created.\"\"\"\n",
    "        self.iterator_initializer_func(session)\n",
    "\n",
    "# Define the training inputs\n",
    "def get_train_inputs(batch_size, data, test=False):\n",
    "    \"\"\"Return the input function to get the training data.\n",
    "    Args:\n",
    "        batch_size (int): Batch size of training iterator that is returned\n",
    "                          by the input function.\n",
    "        data (Object): Object holding the loaded data.\n",
    "        test (boolean): if test, then load valid mat for testing purposes\n",
    "    Returns:\n",
    "        (Input function, IteratorInitializerHook):\n",
    "            - Function that returns (features, labels) when called.\n",
    "            - Hook to initialise input iterator.\n",
    "    \"\"\"\n",
    "    iterator_initializer_hook = IteratorInitializerHook()\n",
    "\n",
    "    def train_inputs():\n",
    "        \"\"\"Returns training set as Operations.\n",
    "        Returns:\n",
    "            (features, labels) Operations that iterate over the dataset\n",
    "            on every evaluation\n",
    "        \"\"\"\n",
    "        with tf.name_scope('Training_data'):\n",
    "            # Get  data\n",
    "            if test:\n",
    "                DNA = data['validxdata']\n",
    "                labels = data['validdata']\n",
    "            else:\n",
    "                DNA = data['trainxdata']\n",
    "                labels = data['traindata']\n",
    "            # Define placeholders\n",
    "            DNA_placeholder = tf.placeholder(\n",
    "                DNA.dtype, DNA.shape)\n",
    "            labels_placeholder = tf.placeholder(\n",
    "                labels.dtype, labels.shape)\n",
    "            # Build dataset iterator\n",
    "            dataset = tf.contrib.data.Dataset.from_tensor_slices(\n",
    "                (DNA_placeholder, labels_placeholder))\n",
    "            dataset = dataset.repeat(None)  # Infinite iterations\n",
    "            dataset = dataset.shuffle(buffer_size=10000)\n",
    "            dataset = dataset.batch(batch_size)\n",
    "            iterator = dataset.make_initializable_iterator()\n",
    "            next_example, next_label = iterator.get_next()\n",
    "            # Set runhook to initialize iterator\n",
    "            iterator_initializer_hook.iterator_initializer_func = \\\n",
    "                lambda sess: sess.run(\n",
    "                    iterator.initializer,\n",
    "                    feed_dict={images_placeholder: DNA,\n",
    "                               labels_placeholder: labels})\n",
    "            # Return batched (features, labels)\n",
    "            return next_example, next_label\n",
    "\n",
    "    # Return function and hook\n",
    "    return train_inputs, iterator_initializer_hook\n",
    "\n",
    "    def get_test_inputs(batch_size, data, test=False):\n",
    "        \"\"\"Return the input function to get the test data.\n",
    "        Args:\n",
    "            batch_size (int): Batch size of training iterator that is returned\n",
    "                          by the input function.\n",
    "            data (Object): Object holding the loaded data.\n",
    "            test (boolean): if test, then load valid mat for testing purposes\n",
    "        Returns:\n",
    "            (Input function, IteratorInitializerHook):\n",
    "                - Function that returns (features, labels) when called.\n",
    "                - Hook to initialise input iterator.\n",
    "        \"\"\"\n",
    "        iterator_initializer_hook = IteratorInitializerHook()\n",
    "\n",
    "    def test_inputs():\n",
    "        \"\"\"Returns training set as Operations.\n",
    "        Returns:\n",
    "            (features, labels) Operations that iterate over the dataset\n",
    "            on every evaluation\n",
    "        \"\"\"\n",
    "        with tf.name_scope('Test_data'):\n",
    "            # Get data\n",
    "            if test:\n",
    "                DNA = data['validxdata']\n",
    "                labels = data['validdata']\n",
    "            else:\n",
    "                DNA = data['testxdata']\n",
    "                labels = data['testdata']\n",
    "            # Define placeholders\n",
    "            DNA_placeholder = tf.placeholder(\n",
    "                DNA.dtype, DNA.shape)\n",
    "            labels_placeholder = tf.placeholder(\n",
    "                labels.dtype, labels.shape)\n",
    "            # Build dataset iterator\n",
    "            dataset = tf.contrib.data.Dataset.from_tensor_slices(\n",
    "                (DNA_placeholder, labels_placeholder))\n",
    "            dataset = dataset.batch(batch_size)\n",
    "            iterator = dataset.make_initializable_iterator()\n",
    "            next_example, next_label = iterator.get_next()\n",
    "            # Set runhook to initialize iterator\n",
    "            iterator_initializer_hook.iterator_initializer_func = \\\n",
    "                lambda sess: sess.run(\n",
    "                    iterator.initializer,\n",
    "                    feed_dict={images_placeholder: DNA,\n",
    "                               labels_placeholder: labels})\n",
    "            return next_example, next_label\n",
    "\n",
    "    # Return function and hook\n",
    "    return test_inputs, iterator_initializer_hook"
   ]
  }
 ],
 "metadata": {
  "kernelspec": {
   "display_name": "Python 3",
   "language": "python",
   "name": "python3"
  },
  "language_info": {
   "codemirror_mode": {
    "name": "ipython",
    "version": 3
   },
   "file_extension": ".py",
   "mimetype": "text/x-python",
   "name": "python",
   "nbconvert_exporter": "python",
   "pygments_lexer": "ipython3",
   "version": "3.5.4"
  }
 },
 "nbformat": 4,
 "nbformat_minor": 2
}
