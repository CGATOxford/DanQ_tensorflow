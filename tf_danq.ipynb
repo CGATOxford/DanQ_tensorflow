{
 "cells": [
  {
   "cell_type": "code",
   "execution_count": 1,
   "metadata": {},
   "outputs": [],
   "source": [
    "from __future__ import division, print_function\n",
    "\n",
    "import tensorflow as tf\n",
    "import numpy as np\n",
    "import h5py\n",
    "import scipy.io"
   ]
  },
  {
   "cell_type": "code",
   "execution_count": 2,
   "metadata": {},
   "outputs": [
    {
     "data": {
      "text/plain": [
       "'1.3.0'"
      ]
     },
     "execution_count": 2,
     "metadata": {},
     "output_type": "execute_result"
    }
   ],
   "source": [
    "from tensorflow.contrib import rnn\n",
    "tf.__version__"
   ]
  },
  {
   "cell_type": "code",
   "execution_count": 3,
   "metadata": {
    "collapsed": true
   },
   "outputs": [],
   "source": [
    "np.random.seed(1337)"
   ]
  },
  {
   "cell_type": "markdown",
   "metadata": {},
   "source": [
    "# Load the data into python"
   ]
  },
  {
   "cell_type": "code",
   "execution_count": 4,
   "metadata": {
    "collapsed": true
   },
   "outputs": [],
   "source": [
    "#trainmat = h5py.File('data/deepsea_train/train.mat', \"r\")\n",
    "validmat = scipy.io.loadmat('Data/valid.mat')\n",
    "#testmat = scipy.io.loadmat('Data/test.mat')"
   ]
  },
  {
   "cell_type": "code",
   "execution_count": 6,
   "metadata": {},
   "outputs": [
    {
     "data": {
      "text/plain": [
       "{'__globals__': [],\n",
       " '__header__': b'MATLAB 5.0 MAT-file, Platform: GLNXA64, Created on: Thu Jun 18 23:23:16 2015',\n",
       " '__version__': '1.0',\n",
       " 'validdata': array([[0, 0, 0, ..., 1, 0, 0],\n",
       "        [1, 1, 0, ..., 0, 0, 0],\n",
       "        [0, 0, 0, ..., 1, 0, 0],\n",
       "        ..., \n",
       "        [0, 0, 0, ..., 0, 0, 0],\n",
       "        [0, 0, 0, ..., 0, 0, 0],\n",
       "        [0, 0, 0, ..., 0, 0, 0]], dtype=uint8),\n",
       " 'validxdata': array([[[0, 0, 0, ..., 0, 0, 1],\n",
       "         [0, 0, 0, ..., 1, 1, 0],\n",
       "         [1, 0, 0, ..., 0, 0, 0],\n",
       "         [0, 1, 1, ..., 0, 0, 0]],\n",
       " \n",
       "        [[0, 0, 0, ..., 0, 0, 0],\n",
       "         [0, 0, 1, ..., 0, 0, 1],\n",
       "         [1, 0, 0, ..., 1, 0, 0],\n",
       "         [0, 1, 0, ..., 0, 1, 0]],\n",
       " \n",
       "        [[0, 1, 0, ..., 0, 0, 0],\n",
       "         [0, 0, 0, ..., 0, 0, 0],\n",
       "         [1, 0, 0, ..., 0, 1, 0],\n",
       "         [0, 0, 1, ..., 1, 0, 1]],\n",
       " \n",
       "        ..., \n",
       "        [[1, 0, 1, ..., 0, 0, 0],\n",
       "         [0, 0, 0, ..., 0, 1, 0],\n",
       "         [0, 0, 0, ..., 0, 0, 0],\n",
       "         [0, 1, 0, ..., 1, 0, 1]],\n",
       " \n",
       "        [[0, 0, 0, ..., 0, 0, 0],\n",
       "         [1, 1, 0, ..., 0, 0, 0],\n",
       "         [0, 0, 0, ..., 1, 1, 0],\n",
       "         [0, 0, 1, ..., 0, 0, 1]],\n",
       " \n",
       "        [[0, 0, 0, ..., 0, 0, 0],\n",
       "         [1, 1, 0, ..., 0, 0, 0],\n",
       "         [0, 0, 1, ..., 1, 0, 1],\n",
       "         [0, 0, 0, ..., 0, 1, 0]]], dtype=uint8)}"
      ]
     },
     "execution_count": 6,
     "metadata": {},
     "output_type": "execute_result"
    }
   ],
   "source": [
    "validmat"
   ]
  },
  {
   "cell_type": "code",
   "execution_count": 5,
   "metadata": {
    "collapsed": true
   },
   "outputs": [],
   "source": [
    "#X_train = np.transpose(np.array(trainmat['trainxdata']), axes=(2,0,1))"
   ]
  },
  {
   "cell_type": "code",
   "execution_count": 9,
   "metadata": {},
   "outputs": [
    {
     "ename": "NameError",
     "evalue": "name 'trainmat' is not defined",
     "output_type": "error",
     "traceback": [
      "\u001b[0;31m---------------------------------------------------------------------------\u001b[0m",
      "\u001b[0;31mNameError\u001b[0m                                 Traceback (most recent call last)",
      "\u001b[0;32m<ipython-input-9-4cb0005d4ec7>\u001b[0m in \u001b[0;36m<module>\u001b[0;34m()\u001b[0m\n\u001b[0;32m----> 1\u001b[0;31m \u001b[0my_train\u001b[0m \u001b[0;34m=\u001b[0m \u001b[0mnp\u001b[0m\u001b[0;34m.\u001b[0m\u001b[0mtranspose\u001b[0m\u001b[0;34m(\u001b[0m\u001b[0mtrainmat\u001b[0m\u001b[0;34m[\u001b[0m\u001b[0;34m'traindata'\u001b[0m\u001b[0;34m]\u001b[0m\u001b[0;34m)\u001b[0m\u001b[0;34m.\u001b[0m\u001b[0mT\u001b[0m\u001b[0;34m\u001b[0m\u001b[0m\n\u001b[0m",
      "\u001b[0;31mNameError\u001b[0m: name 'trainmat' is not defined"
     ]
    }
   ],
   "source": [
    "#y_train = np.transpose(trainmat['traindata']).T"
   ]
  },
  {
   "cell_type": "code",
   "execution_count": 11,
   "metadata": {},
   "outputs": [
    {
     "name": "stdout",
     "output_type": "stream",
     "text": [
      "(919, 4400000)\n"
     ]
    },
    {
     "data": {
      "text/plain": [
       "array([[0, 0, 0, ..., 0, 1, 0]], dtype=uint8)"
      ]
     },
     "execution_count": 11,
     "metadata": {},
     "output_type": "execute_result"
    }
   ],
   "source": [
    "print(y_train.shape)\n",
    "y_train[1:2]"
   ]
  },
  {
   "cell_type": "code",
   "execution_count": 5,
   "metadata": {
    "collapsed": true
   },
   "outputs": [],
   "source": [
    "learning_rate = 0.001\n",
    "num_steps = 2000\n",
    "batch_size = 1000\n",
    "\n",
    "input_dim = 4\n",
    "input_length = 1000\n",
    "num_classes = 919\n",
    "dropout_cnn = 0.2"
   ]
  },
  {
   "cell_type": "markdown",
   "metadata": {},
   "source": [
    "# DanQNN "
   ]
  },
  {
   "cell_type": "code",
   "execution_count": 13,
   "metadata": {
    "collapsed": true
   },
   "outputs": [],
   "source": [
    "def BDNN(x):\n",
    "    forward_lstm = rnn.LSTMCell(320, reuse=tf.get_variable_scope().reuse)\n",
    "    backward_lstm = rnn.LSTMCell(320, reuse=tf.get_variable_scope().reuse)\n",
    "    \n",
    "    brnn, _, _ = tf.nn.static_bidirectional_rnn(forward_lstm, backward_lstm, tf.unstack(x), dtype=tf.float32)\n",
    "\n",
    "    return brnn\n",
    "\n",
    "def DanQNN(x, input_length, nb_filter, filter_length,\n",
    "            activation=tf.nn.relu, subsample=1, border=\"VALID\", reuse=True, max_strides=13,\n",
    "          max_pool_size=13, mode=None):\n",
    "    \n",
    "    '''\n",
    "    This function creates a CNN followed by a LSTM RNN as per DanQ publication\n",
    "    We aim to have this implimented in tensorflow as it will be easier to\n",
    "    modify the implimentation for other uses if we incorporate with tensorboard.\n",
    "    '''\n",
    "    \n",
    "    with tf.variable_scope('DanQNN', reuse=reuse):\n",
    "    \n",
    "        conv1d = tf.layers.conv1d(x, filters=nb_filter , strides=subsample, \n",
    "                                  padding=border, kernel_size=input_length, data_format='channels_first', reuse=reuse)\n",
    "\n",
    "        max1 = tf.layers.max_pooling1d(conv1d, pool_size=max_pool_size, strides=max_strides)\n",
    "        \n",
    "        max1 = tf.layers.dropout(max1, rate=0.2,training=mode == tf.estimator.ModeKeys.TRAIN)\n",
    "        \n",
    "\n",
    "        brnn = BDNN(max1)\n",
    "        \n",
    "        brnn = tf.layers.dropout(brnn, rate=0.5,training=mode == tf.estimator.ModeKeys.TRAIN)\n",
    "\n",
    "        brnn = tf.contrib.layers.flatten(brnn)\n",
    "        print(brnn)\n",
    "    with tf.variable_scope('DanQdense1', reuse=reuse):\n",
    "        fc1 = tf.layers.dense(brnn, units=925)\n",
    "        print(fc1)\n",
    "    #with tf.variable_scope('DanQdense2', reuse=reuse):\n",
    "        #fc2 = tf.layers.dense(fc1, units=925, activation=tf.nn.relu)\n",
    "        #print(fc2)\n",
    "    with tf.variable_scope('DanQdense2', reuse=reuse):\n",
    "        fc2 = tf.layers.dense(fc1, units=919, activation=tf.nn.softmax)\n",
    "        print(fc2)\n",
    "        # Not sure if you have to return this function \n",
    "        #return fc3\n",
    "        "
   ]
  },
  {
   "cell_type": "code",
   "execution_count": 14,
   "metadata": {},
   "outputs": [
    {
     "name": "stdout",
     "output_type": "stream",
     "text": [
      "Tensor(\"DanQNN/Flatten/Reshape:0\", shape=(99, 15360), dtype=float32)\n",
      "Tensor(\"DanQdense1/dense/BiasAdd:0\", shape=(99, 925), dtype=float32)\n",
      "Tensor(\"DanQdense2/dense/Softmax:0\", shape=(99, 919), dtype=float32)\n"
     ]
    }
   ],
   "source": [
    "tf.reset_default_graph()\n",
    "DanQNN(tf.cast(validmat['validxdata'][1:100], dtype=tf.float32),1000,320,26,reuse=False)\n"
   ]
  },
  {
   "cell_type": "code",
   "execution_count": null,
   "metadata": {
    "collapsed": true
   },
   "outputs": [],
   "source": [
    "if mode == tf.estimator.ModeKeys.PREDICT:\n",
    "    return tf.estimator.EstimatorSpec(mode=mode, predictions=predictions)\n",
    "\n",
    "# \n",
    "logits_train = DanQNN(features, num_classes, reuse=False)\n",
    "logits_test = DanQNN(features, num_classes, reuse=True)\n",
    "    \n",
    "pred_classes = tf.argmax(logits_test, axis=1)\n",
    "pred_probas = tf.nn.softmax(logits_test)\n",
    "    \n",
    "    \n",
    "loss_op = tf.reduce_mean(tf.nn.sparse_softmax_cross_entropy_with_logits(\n",
    "                            logits=logits_train, labels=tf.cast(labels, dtype=tf.int32)))\n",
    "    "
   ]
  }
 ],
 "metadata": {
  "kernelspec": {
   "display_name": "Python 3",
   "language": "python",
   "name": "python3"
  },
  "language_info": {
   "codemirror_mode": {
    "name": "ipython",
    "version": 3
   },
   "file_extension": ".py",
   "mimetype": "text/x-python",
   "name": "python",
   "nbconvert_exporter": "python",
   "pygments_lexer": "ipython3",
   "version": "3.6.2"
  }
 },
 "nbformat": 4,
 "nbformat_minor": 2
}
